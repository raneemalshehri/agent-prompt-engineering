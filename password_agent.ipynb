{
 "cells": [
  {
   "cell_type": "code",
   "execution_count": 2,
   "metadata": {},
   "outputs": [
    {
     "name": "stderr",
     "output_type": "stream",
     "text": [
      "/var/folders/ts/c0z20d1s1rq1pd4h0py597pw0000gn/T/ipykernel_9101/741864014.py:55: LangChainDeprecationWarning: The class `ChatOpenAI` was deprecated in LangChain 0.0.10 and will be removed in 1.0. An updated version of the class exists in the :class:`~langchain-openai package and should be used instead. To use it run `pip install -U :class:`~langchain-openai` and import as `from :class:`~langchain_openai import ChatOpenAI``.\n",
      "  llm = ChatOpenAI(temperature=0)\n",
      "/var/folders/ts/c0z20d1s1rq1pd4h0py597pw0000gn/T/ipykernel_9101/741864014.py:56: LangChainDeprecationWarning: LangChain agents will continue to be supported, but it is recommended for new use cases to be built with LangGraph. LangGraph offers a more flexible and full-featured framework for building agents, including support for tool-calling, persistence of state, and human-in-the-loop workflows. For details, refer to the `LangGraph documentation <https://langchain-ai.github.io/langgraph/>`_ as well as guides for `Migrating from AgentExecutor <https://python.langchain.com/docs/how_to/migrate_agent/>`_ and LangGraph's `Pre-built ReAct agent <https://langchain-ai.github.io/langgraph/how-tos/create-react-agent/>`_.\n",
      "  agent = initialize_agent(\n"
     ]
    }
   ],
   "source": [
    "from langchain.agents import Tool, initialize_agent\n",
    "from langchain.agents.agent_types import AgentType\n",
    "from langchain.chat_models import ChatOpenAI\n",
    "from langchain.tools import StructuredTool\n",
    "import random\n",
    "import string\n",
    "\n",
    "# Tool 1: Password Strength Checker\n",
    "def password_strength_checker(password: str) -> str:\n",
    "    strength = 0\n",
    "    if len(password) >= 8:\n",
    "        strength += 1\n",
    "    if any(c.isupper() for c in password):\n",
    "        strength += 1\n",
    "    if any(c.isdigit() for c in password):\n",
    "        strength += 1\n",
    "    if any(c in string.punctuation for c in password):\n",
    "        strength += 1\n",
    "\n",
    "    if strength == 4:\n",
    "        return \"Strong password 💪\"\n",
    "    elif strength == 3:\n",
    "        return \"Moderately strong password.\"\n",
    "    elif strength == 2:\n",
    "        return \"Weak password.\"\n",
    "    else:\n",
    "        return \"Very weak password. Consider improving it.\"\n",
    "\n",
    "# Tool 2: Password Generator\n",
    "def password_generator(length: int = 12, include_symbols: bool = True, include_numbers: bool = True, include_uppercase: bool = True) -> str:\n",
    "    characters = string.ascii_lowercase\n",
    "    if include_uppercase:\n",
    "        characters += string.ascii_uppercase\n",
    "    if include_numbers:\n",
    "        characters += string.digits\n",
    "    if include_symbols:\n",
    "        characters += string.punctuation\n",
    "    return ''.join(random.choice(characters) for _ in range(length))\n",
    "\n",
    "# Wrap tools with valid names\n",
    "tools = [\n",
    "    Tool(\n",
    "        name=\"password_strength_checker_tool\",  \n",
    "        func=password_strength_checker,\n",
    "        description=\"Check how secure a password is. Input should be a single string representing the password.\"\n",
    "    ),\n",
    "    StructuredTool.from_function(\n",
    "        func=password_generator,\n",
    "        name=\"password_generator_tool\",  \n",
    "        description=\"Generate a strong password with optional length, symbols, numbers, and uppercase letters.\"\n",
    "    )\n",
    "]\n",
    "\n",
    "# Initialize the agent with OPENAI_FUNCTIONS\n",
    "llm = ChatOpenAI(temperature=0)\n",
    "agent = initialize_agent(\n",
    "    tools=tools,\n",
    "    llm=llm,\n",
    "    agent=AgentType.OPENAI_FUNCTIONS,\n",
    "    verbose=True,\n",
    "    agent_kwargs={\n",
    "        \"system_message\": \"You are a helpful assistant skilled in evaluating and generating secure passwords. Choose the right tool based on user intent.\"\n",
    "    }\n",
    ")"
   ]
  },
  {
   "cell_type": "code",
   "execution_count": 3,
   "metadata": {},
   "outputs": [
    {
     "name": "stderr",
     "output_type": "stream",
     "text": [
      "/var/folders/ts/c0z20d1s1rq1pd4h0py597pw0000gn/T/ipykernel_9101/943882704.py:2: LangChainDeprecationWarning: The method `Chain.run` was deprecated in langchain 0.1.0 and will be removed in 1.0. Use :meth:`~invoke` instead.\n",
      "  agent.run(\"Is 'password123' secure?\")\n"
     ]
    },
    {
     "name": "stdout",
     "output_type": "stream",
     "text": [
      "\n",
      "\n",
      "\u001b[1m> Entering new AgentExecutor chain...\u001b[0m\n",
      "\u001b[32;1m\u001b[1;3m\n",
      "Invoking: `password_strength_checker_tool` with `password123`\n",
      "\n",
      "\n",
      "\u001b[0m\u001b[36;1m\u001b[1;3mWeak password.\u001b[0m\u001b[32;1m\u001b[1;3mThe password 'password123' is considered weak. Would you like me to generate a strong password for you?\u001b[0m\n",
      "\n",
      "\u001b[1m> Finished chain.\u001b[0m\n",
      "\n",
      "\n",
      "\u001b[1m> Entering new AgentExecutor chain...\u001b[0m\n",
      "\u001b[32;1m\u001b[1;3m\n",
      "Invoking: `password_generator_tool` with `{'length': 16, 'include_symbols': True, 'include_numbers': True, 'include_uppercase': True}`\n",
      "\n",
      "\n",
      "\u001b[0m\u001b[33;1m\u001b[1;3mx}YoXBJTqcLzLSu%\u001b[0m\u001b[32;1m\u001b[1;3mI have generated a strong password for your banking website: `x}YoXBJTqcLzLSu%`. Make sure to store it securely.\u001b[0m\n",
      "\n",
      "\u001b[1m> Finished chain.\u001b[0m\n",
      "\n",
      "\n",
      "\u001b[1m> Entering new AgentExecutor chain...\u001b[0m\n",
      "\u001b[32;1m\u001b[1;3m\n",
      "Invoking: `password_generator_tool` with `{'length': 16, 'include_symbols': False}`\n",
      "\n",
      "\n",
      "\u001b[0m\u001b[33;1m\u001b[1;3mW6aUSQWR8m80Rx9g\u001b[0m\u001b[32;1m\u001b[1;3mHere is a 16-character password without symbols: `W6aUSQWR8m80Rx9g`\u001b[0m\n",
      "\n",
      "\u001b[1m> Finished chain.\u001b[0m\n",
      "\n",
      "\n",
      "\u001b[1m> Entering new AgentExecutor chain...\u001b[0m\n",
      "\u001b[32;1m\u001b[1;3m\n",
      "Invoking: `password_strength_checker_tool` with `Tr0ub4dor&3`\n",
      "\n",
      "\n",
      "\u001b[0m\u001b[36;1m\u001b[1;3mStrong password 💪\u001b[0m\u001b[32;1m\u001b[1;3m'Tr0ub4dor&3' is a strong password. It meets the criteria for a secure password.\u001b[0m\n",
      "\n",
      "\u001b[1m> Finished chain.\u001b[0m\n"
     ]
    },
    {
     "data": {
      "text/plain": [
       "\"'Tr0ub4dor&3' is a strong password. It meets the criteria for a secure password.\""
      ]
     },
     "execution_count": 3,
     "metadata": {},
     "output_type": "execute_result"
    }
   ],
   "source": [
    "# Run test queries\n",
    "agent.run(\"Is 'password123' secure?\")\n",
    "agent.run(\"Generate a strong password for my banking website.\")\n",
    "agent.run(\"I need a 16-character password without symbols.\")\n",
    "agent.run(\"Is 'Tr0ub4dor&3' a good password?\")"
   ]
  }
 ],
 "metadata": {
  "kernelspec": {
   "display_name": "Python 3",
   "language": "python",
   "name": "python3"
  },
  "language_info": {
   "codemirror_mode": {
    "name": "ipython",
    "version": 3
   },
   "file_extension": ".py",
   "mimetype": "text/x-python",
   "name": "python",
   "nbconvert_exporter": "python",
   "pygments_lexer": "ipython3",
   "version": "3.13.2"
  }
 },
 "nbformat": 4,
 "nbformat_minor": 2
}
